{
 "cells": [
  {
   "cell_type": "code",
   "execution_count": 23,
   "metadata": {},
   "outputs": [],
   "source": [
    "import pandas as pd\n",
    "from sklearn.metrics import mean_absolute_error, mean_squared_error, r2_score\n",
    "import numpy as np\n",
    "import joblib\n",
    "from sqlalchemy import create_engine"
   ]
  },
  {
   "cell_type": "code",
   "execution_count": 24,
   "metadata": {},
   "outputs": [],
   "source": [
    "# Note:: The make sure you use the information from your specific PostgreSQL installation\n",
    "host = r'127.0.0.1' # denotes that the db in a local installation\n",
    "db = r'MSDS610' # db we just created\n",
    "user = r'postgres' # using the postgres user for this demo\n",
    "pw = r'pdahal001' # this is the password established during installation\n",
    "port = r'5432' # default port estabalished during install"
   ]
  },
  {
   "cell_type": "code",
   "execution_count": 25,
   "metadata": {},
   "outputs": [],
   "source": [
    "db_conn = create_engine(\"postgresql://{}:{}@{}:{}/{}\".format(user, pw, host, port, db))"
   ]
  },
  {
   "cell_type": "code",
   "execution_count": 26,
   "metadata": {},
   "outputs": [],
   "source": [
    "table_name1 = r'feature_cols'\n",
    "table_name2 = r'target_cols'\n",
    "schema = r'analytics' # schema were the data was loaded last week.\n",
    "\n",
    "X_val = pd.read_sql_table(table_name1, db_conn, schema)\n",
    "y_val = pd.read_sql_table(table_name2, db_conn, schema)"
   ]
  },
  {
   "cell_type": "code",
   "execution_count": 27,
   "metadata": {},
   "outputs": [
    {
     "data": {
      "text/html": [
       "<div>\n",
       "<style scoped>\n",
       "    .dataframe tbody tr th:only-of-type {\n",
       "        vertical-align: middle;\n",
       "    }\n",
       "\n",
       "    .dataframe tbody tr th {\n",
       "        vertical-align: top;\n",
       "    }\n",
       "\n",
       "    .dataframe thead th {\n",
       "        text-align: right;\n",
       "    }\n",
       "</style>\n",
       "<table border=\"1\" class=\"dataframe\">\n",
       "  <thead>\n",
       "    <tr style=\"text-align: right;\">\n",
       "      <th></th>\n",
       "      <th>temperature</th>\n",
       "      <th>has_children</th>\n",
       "      <th>direction_same</th>\n",
       "      <th>direction_opp</th>\n",
       "      <th>destination_Work</th>\n",
       "      <th>passanger_Partner</th>\n",
       "      <th>weather_Snowy</th>\n",
       "      <th>weather_Sunny</th>\n",
       "      <th>time_10PM</th>\n",
       "      <th>time_2PM</th>\n",
       "      <th>...</th>\n",
       "      <th>RestaurantLessThan20_less1</th>\n",
       "      <th>RestaurantLessThan20_never</th>\n",
       "      <th>Restaurant20To50_gt8</th>\n",
       "      <th>Restaurant20To50_less1</th>\n",
       "      <th>Restaurant20To50_never</th>\n",
       "      <th>destination_acceptance_rate</th>\n",
       "      <th>avg_coupon_time</th>\n",
       "      <th>recent_acceptance_trend</th>\n",
       "      <th>weather_temp_impact</th>\n",
       "      <th>income_acceptance_rate</th>\n",
       "    </tr>\n",
       "  </thead>\n",
       "  <tbody>\n",
       "    <tr>\n",
       "      <th>0</th>\n",
       "      <td>0.845791</td>\n",
       "      <td>-0.859296</td>\n",
       "      <td>0.0</td>\n",
       "      <td>0.0</td>\n",
       "      <td>-0.348658</td>\n",
       "      <td>-0.335708</td>\n",
       "      <td>-0.328806</td>\n",
       "      <td>0.460849</td>\n",
       "      <td>-0.423671</td>\n",
       "      <td>1.773234</td>\n",
       "      <td>...</td>\n",
       "      <td>-0.436370</td>\n",
       "      <td>-0.132476</td>\n",
       "      <td>-0.15457</td>\n",
       "      <td>1.048521</td>\n",
       "      <td>-0.438838</td>\n",
       "      <td>0.580604</td>\n",
       "      <td>-1.527661</td>\n",
       "      <td>-1.802445</td>\n",
       "      <td>0.384183</td>\n",
       "      <td>-0.396374</td>\n",
       "    </tr>\n",
       "    <tr>\n",
       "      <th>1</th>\n",
       "      <td>-0.486302</td>\n",
       "      <td>-0.859296</td>\n",
       "      <td>0.0</td>\n",
       "      <td>0.0</td>\n",
       "      <td>-0.348658</td>\n",
       "      <td>-0.335708</td>\n",
       "      <td>-0.328806</td>\n",
       "      <td>0.460849</td>\n",
       "      <td>-0.423671</td>\n",
       "      <td>-0.563941</td>\n",
       "      <td>...</td>\n",
       "      <td>2.291634</td>\n",
       "      <td>-0.132476</td>\n",
       "      <td>-0.15457</td>\n",
       "      <td>-0.953724</td>\n",
       "      <td>-0.438838</td>\n",
       "      <td>-1.722343</td>\n",
       "      <td>-0.266948</td>\n",
       "      <td>0.978501</td>\n",
       "      <td>-0.192036</td>\n",
       "      <td>-0.396374</td>\n",
       "    </tr>\n",
       "    <tr>\n",
       "      <th>2</th>\n",
       "      <td>-0.486302</td>\n",
       "      <td>-0.859296</td>\n",
       "      <td>0.0</td>\n",
       "      <td>0.0</td>\n",
       "      <td>-0.348658</td>\n",
       "      <td>-0.335708</td>\n",
       "      <td>-0.328806</td>\n",
       "      <td>-2.169906</td>\n",
       "      <td>-0.423671</td>\n",
       "      <td>-0.563941</td>\n",
       "      <td>...</td>\n",
       "      <td>-0.436370</td>\n",
       "      <td>-0.132476</td>\n",
       "      <td>-0.15457</td>\n",
       "      <td>1.048521</td>\n",
       "      <td>-0.438838</td>\n",
       "      <td>0.580604</td>\n",
       "      <td>0.993766</td>\n",
       "      <td>0.515010</td>\n",
       "      <td>-0.192036</td>\n",
       "      <td>-0.396374</td>\n",
       "    </tr>\n",
       "    <tr>\n",
       "      <th>3</th>\n",
       "      <td>-0.486302</td>\n",
       "      <td>1.163744</td>\n",
       "      <td>0.0</td>\n",
       "      <td>0.0</td>\n",
       "      <td>-0.348658</td>\n",
       "      <td>-0.335708</td>\n",
       "      <td>-0.328806</td>\n",
       "      <td>0.460849</td>\n",
       "      <td>-0.423671</td>\n",
       "      <td>1.773234</td>\n",
       "      <td>...</td>\n",
       "      <td>-0.436370</td>\n",
       "      <td>-0.132476</td>\n",
       "      <td>-0.15457</td>\n",
       "      <td>-0.953724</td>\n",
       "      <td>-0.438838</td>\n",
       "      <td>0.580604</td>\n",
       "      <td>-1.527661</td>\n",
       "      <td>-0.411972</td>\n",
       "      <td>-0.192036</td>\n",
       "      <td>-0.396374</td>\n",
       "    </tr>\n",
       "    <tr>\n",
       "      <th>4</th>\n",
       "      <td>0.845791</td>\n",
       "      <td>-0.859296</td>\n",
       "      <td>0.0</td>\n",
       "      <td>0.0</td>\n",
       "      <td>-0.348658</td>\n",
       "      <td>-0.335708</td>\n",
       "      <td>-0.328806</td>\n",
       "      <td>0.460849</td>\n",
       "      <td>-0.423671</td>\n",
       "      <td>-0.563941</td>\n",
       "      <td>...</td>\n",
       "      <td>-0.436370</td>\n",
       "      <td>-0.132476</td>\n",
       "      <td>-0.15457</td>\n",
       "      <td>-0.953724</td>\n",
       "      <td>2.278743</td>\n",
       "      <td>0.580604</td>\n",
       "      <td>0.993766</td>\n",
       "      <td>-0.875463</td>\n",
       "      <td>0.384183</td>\n",
       "      <td>-0.396374</td>\n",
       "    </tr>\n",
       "  </tbody>\n",
       "</table>\n",
       "<p>5 rows × 48 columns</p>\n",
       "</div>"
      ],
      "text/plain": [
       "   temperature  has_children  direction_same  direction_opp  destination_Work  \\\n",
       "0     0.845791     -0.859296             0.0            0.0         -0.348658   \n",
       "1    -0.486302     -0.859296             0.0            0.0         -0.348658   \n",
       "2    -0.486302     -0.859296             0.0            0.0         -0.348658   \n",
       "3    -0.486302      1.163744             0.0            0.0         -0.348658   \n",
       "4     0.845791     -0.859296             0.0            0.0         -0.348658   \n",
       "\n",
       "   passanger_Partner  weather_Snowy  weather_Sunny  time_10PM  time_2PM  ...  \\\n",
       "0          -0.335708      -0.328806       0.460849  -0.423671  1.773234  ...   \n",
       "1          -0.335708      -0.328806       0.460849  -0.423671 -0.563941  ...   \n",
       "2          -0.335708      -0.328806      -2.169906  -0.423671 -0.563941  ...   \n",
       "3          -0.335708      -0.328806       0.460849  -0.423671  1.773234  ...   \n",
       "4          -0.335708      -0.328806       0.460849  -0.423671 -0.563941  ...   \n",
       "\n",
       "   RestaurantLessThan20_less1  RestaurantLessThan20_never  \\\n",
       "0                   -0.436370                   -0.132476   \n",
       "1                    2.291634                   -0.132476   \n",
       "2                   -0.436370                   -0.132476   \n",
       "3                   -0.436370                   -0.132476   \n",
       "4                   -0.436370                   -0.132476   \n",
       "\n",
       "   Restaurant20To50_gt8  Restaurant20To50_less1  Restaurant20To50_never  \\\n",
       "0              -0.15457                1.048521               -0.438838   \n",
       "1              -0.15457               -0.953724               -0.438838   \n",
       "2              -0.15457                1.048521               -0.438838   \n",
       "3              -0.15457               -0.953724               -0.438838   \n",
       "4              -0.15457               -0.953724                2.278743   \n",
       "\n",
       "   destination_acceptance_rate  avg_coupon_time  recent_acceptance_trend  \\\n",
       "0                     0.580604        -1.527661                -1.802445   \n",
       "1                    -1.722343        -0.266948                 0.978501   \n",
       "2                     0.580604         0.993766                 0.515010   \n",
       "3                     0.580604        -1.527661                -0.411972   \n",
       "4                     0.580604         0.993766                -0.875463   \n",
       "\n",
       "   weather_temp_impact  income_acceptance_rate  \n",
       "0             0.384183               -0.396374  \n",
       "1            -0.192036               -0.396374  \n",
       "2            -0.192036               -0.396374  \n",
       "3            -0.192036               -0.396374  \n",
       "4             0.384183               -0.396374  \n",
       "\n",
       "[5 rows x 48 columns]"
      ]
     },
     "execution_count": 27,
     "metadata": {},
     "output_type": "execute_result"
    }
   ],
   "source": [
    "X_val.head()"
   ]
  },
  {
   "cell_type": "code",
   "execution_count": 28,
   "metadata": {},
   "outputs": [
    {
     "data": {
      "text/html": [
       "<div>\n",
       "<style scoped>\n",
       "    .dataframe tbody tr th:only-of-type {\n",
       "        vertical-align: middle;\n",
       "    }\n",
       "\n",
       "    .dataframe tbody tr th {\n",
       "        vertical-align: top;\n",
       "    }\n",
       "\n",
       "    .dataframe thead th {\n",
       "        text-align: right;\n",
       "    }\n",
       "</style>\n",
       "<table border=\"1\" class=\"dataframe\">\n",
       "  <thead>\n",
       "    <tr style=\"text-align: right;\">\n",
       "      <th></th>\n",
       "      <th>Y</th>\n",
       "    </tr>\n",
       "  </thead>\n",
       "  <tbody>\n",
       "    <tr>\n",
       "      <th>0</th>\n",
       "      <td>0</td>\n",
       "    </tr>\n",
       "    <tr>\n",
       "      <th>1</th>\n",
       "      <td>0</td>\n",
       "    </tr>\n",
       "    <tr>\n",
       "      <th>2</th>\n",
       "      <td>0</td>\n",
       "    </tr>\n",
       "    <tr>\n",
       "      <th>3</th>\n",
       "      <td>1</td>\n",
       "    </tr>\n",
       "    <tr>\n",
       "      <th>4</th>\n",
       "      <td>0</td>\n",
       "    </tr>\n",
       "  </tbody>\n",
       "</table>\n",
       "</div>"
      ],
      "text/plain": [
       "   Y\n",
       "0  0\n",
       "1  0\n",
       "2  0\n",
       "3  1\n",
       "4  0"
      ]
     },
     "execution_count": 28,
     "metadata": {},
     "output_type": "execute_result"
    }
   ],
   "source": [
    "y_val.head()"
   ]
  },
  {
   "cell_type": "code",
   "execution_count": 29,
   "metadata": {},
   "outputs": [],
   "source": [
    "# Convert y_val to a 1D array\n",
    "y_val = y_val.iloc[:, 0]  \n",
    "y_val = y_val.values.flatten()  # Ensures it's a NumPy 1D array"
   ]
  },
  {
   "cell_type": "code",
   "execution_count": 30,
   "metadata": {},
   "outputs": [],
   "source": [
    "# Load the saved model\n",
    "loaded_model = joblib.load(\"assignment_rf_model.joblib\")"
   ]
  },
  {
   "cell_type": "markdown",
   "metadata": {},
   "source": [
    "Here, we loaded the saved XGBoost model that achieved the highest accuracy in the previous file."
   ]
  },
  {
   "cell_type": "code",
   "execution_count": 31,
   "metadata": {},
   "outputs": [],
   "source": [
    "# Generate predictions\n",
    "y_val_pred = loaded_model.predict(X_val)"
   ]
  },
  {
   "cell_type": "code",
   "execution_count": 32,
   "metadata": {},
   "outputs": [],
   "source": [
    "# Calculate regression metrics\n",
    "mae = mean_absolute_error(y_val, y_val_pred)\n",
    "mse = mean_squared_error(y_val, y_val_pred)\n",
    "r2 = r2_score(y_val, y_val_pred)"
   ]
  },
  {
   "cell_type": "code",
   "execution_count": 33,
   "metadata": {},
   "outputs": [
    {
     "name": "stdout",
     "output_type": "stream",
     "text": [
      " Mean Squared Error (MAE): 0.1906259910157046\n",
      " R² Score: 0.2112783415426246\n",
      "Mean Absolute Error (MAE): 0.3665421663117525\n"
     ]
    }
   ],
   "source": [
    "print(f\" Mean Squared Error (MAE): {mse}\")\n",
    "print(f\" R² Score: {r2}\")\n",
    "print(f\"Mean Absolute Error (MAE): {mae}\")"
   ]
  },
  {
   "cell_type": "markdown",
   "metadata": {},
   "source": [
    "So, finally, we loaded the model and validated it in this file. In the previous file, we evaluated three different features with three different models and selected the XGBoost model from our initial feature list, as it provided the best validation results.\n",
    "\n",
    "We used the same model here and analyzed its performance. The Mean Absolute Error (MAE) of 0.1906 indicates that, on average, the model's predictions deviate by approximately 0.19 units from the actual values, reflecting a low prediction error. The R² Score of 0.2113 suggests that the model explains about 21.13% of the variance, indicating a relatively weak fit. Additionally, the Mean Absolute Error (MAE) of 0.3665 further highlights the model’s error in absolute terms."
   ]
  }
 ],
 "metadata": {
  "kernelspec": {
   "display_name": "base",
   "language": "python",
   "name": "python3"
  },
  "language_info": {
   "codemirror_mode": {
    "name": "ipython",
    "version": 3
   },
   "file_extension": ".py",
   "mimetype": "text/x-python",
   "name": "python",
   "nbconvert_exporter": "python",
   "pygments_lexer": "ipython3",
   "version": "3.12.4"
  }
 },
 "nbformat": 4,
 "nbformat_minor": 2
}
